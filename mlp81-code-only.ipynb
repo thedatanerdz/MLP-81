{
 "cells": [
  {
   "cell_type": "code",
   "execution_count": null,
   "id": "ed0a0651",
   "metadata": {},
   "outputs": [],
   "source": [
    "!pip install polar\n",
    "!pip install pyspark"
   ]
  },
  {
   "cell_type": "code",
   "execution_count": null,
   "id": "4552ba1f",
   "metadata": {},
   "outputs": [],
   "source": [
    "import pandas as pd\n",
    "import polar as pl \n",
    "from pyspark.sql import SparkSession\n",
    "\n",
    "flight_file = \"flight-delay-dataset-20182022/Combined_Flights_2022.parquet\""
   ]
  },
  {
   "cell_type": "code",
   "execution_count": null,
   "id": "ef1203ad",
   "metadata": {},
   "outputs": [],
   "source": [
    "df = pd.read_parquet(flight_file )"
   ]
  },
  {
   "cell_type": "code",
   "execution_count": null,
   "id": "c2c2068b",
   "metadata": {},
   "outputs": [],
   "source": [
    "df.info()"
   ]
  },
  {
   "cell_type": "markdown",
   "id": "a56f06de",
   "metadata": {},
   "source": [
    "# Pandas: baseline"
   ]
  },
  {
   "cell_type": "code",
   "execution_count": null,
   "id": "7bdfef93",
   "metadata": {},
   "outputs": [],
   "source": [
    "%%timeit\n",
    "import pandas as pd\n",
    "flight_file = \"flight-delay-dataset-20182022/Combined_Flights_2022.parquet\"\n",
    "df = pd.read_parquet(flight_file)\n",
    "df_agg = df.groupby(['Airline', 'Year'])[[\"DepDelayMinutes\", \"ArrDelayMinutes\"]].agg(\n",
    "    [\"mean\",\"sum\",\"max\"]\n",
    ")\n",
    "df_agg = df_agg.reset_index()\n",
    "df_agg.to_parquet(\"temp_pandas.parquet\")"
   ]
  },
  {
   "cell_type": "code",
   "execution_count": null,
   "id": "a1b2d11b",
   "metadata": {},
   "outputs": [],
   "source": [
    "pd.read__parquet(\"temp_pandas.parquet\")"
   ]
  },
  {
   "cell_type": "code",
   "execution_count": null,
   "id": "a2a95b66",
   "metadata": {},
   "outputs": [],
   "source": [
    "!ls -GFlash temp_pandas.parquet"
   ]
  },
  {
   "cell_type": "markdown",
   "id": "18066a3e",
   "metadata": {},
   "source": [
    "# Polar "
   ]
  },
  {
   "cell_type": "code",
   "execution_count": null,
   "id": "a04b6332",
   "metadata": {},
   "outputs": [],
   "source": [
    "%%timeit\n",
    "import polars as pl\n",
    "flight_file = \"flight-delay-dataset-20182022/Combined_Flights_2022.parquet\"\n",
    "df_polars = (\n",
    "    pl.scan_parquet(flight_file)\n",
    "    .groupby([\"Airline\", \"Year\"])\n",
    "    .agg(\n",
    "        [\n",
    "            pl.col(\"DepDelayMinutes\").mean().alias('avg_dep_delay'),\n",
    "            pl.col(\"DepDelayMinutes\").sum().alias('sum_dep_delay'),\n",
    "            pl.col(\"DepDelayMinutes\").max().alias('max_dep_delay'),\n",
    "            pl.col(\"ArrDelayMinutes\").mean().alias('avg_arr_delay'),\n",
    "            pl.col(\"ArrDelayMinutes\").sum().alias('sum_arr_delay'),\n",
    "            pl.col(\"ArrDelayMinutes\").max().alias('max_arr_delay'),\n",
    "        ]\n",
    "        )           \n",
    ").collect()"
   ]
  },
  {
   "cell_type": "code",
   "execution_count": null,
   "id": "8d46dc82",
   "metadata": {},
   "outputs": [],
   "source": [
    "df_polar.write_parquet(\"temp_polar.parquet\")"
   ]
  },
  {
   "cell_type": "code",
   "execution_count": null,
   "id": "83bea4e5",
   "metadata": {},
   "outputs": [],
   "source": [
    "!ls -GFlash temp_polar.parquet"
   ]
  },
  {
   "cell_type": "markdown",
   "id": "ca179252",
   "metadata": {},
   "source": [
    "# PySpark"
   ]
  },
  {
   "cell_type": "code",
   "execution_count": null,
   "id": "f1a13e95",
   "metadata": {},
   "outputs": [],
   "source": [
    "#Import SparkSessions \n",
    "from pyspark.sql import SparkSession\n",
    "from pyspark.sql.functions import avg,max,sum\n",
    "\n",
    "#Create SparkSession \n",
    "spark = SparkSession.builders.master(\"local[1]\").appName(\"airline-example\").getOrCreate()\n",
    "flight_file = \"flight-delay-dataset-20182022/Combined_Flights_2022.parquet\""
   ]
  },
  {
   "cell_type": "code",
   "execution_count": null,
   "id": "835b3e94",
   "metadata": {},
   "outputs": [],
   "source": [
    "df_spark = spark.read.parquet(flight_file)\n",
    "df_spark_agg = df_spark.groupby(\"Airline\", \"Year\").agg(\n",
    "            avg(\"DepDelayMinutes\").alias('avg_dep_delay'),\n",
    "            sum(\"DepDelayMinutes\").alias('sum_dep_delay'),\n",
    "            max(\"DepDelayMinutes\").alias('max_dep_delay'),\n",
    "            avg(\"ArrDelayMinutes\").alias('avg_arr_delay'),\n",
    "            sum(\"ArrDelayMinutes\").alias('sum_arr_delay'),\n",
    "            max(\"ArrDelayMinutes\").alias('max_arr_delay'),\n",
    ")\n",
    "df_spark_agg.write.mode('overwrite').parquet('temp_spark.parquet')"
   ]
  },
  {
   "cell_type": "markdown",
   "id": "55d8b81c",
   "metadata": {},
   "source": [
    "# Spark SQL"
   ]
  },
  {
   "cell_type": "code",
   "execution_count": null,
   "id": "72579ea7",
   "metadata": {},
   "outputs": [],
   "source": [
    "# Import SparkSession\n",
    "from pyspark.sql import SparkSession\n",
    "# Create SparkSessions\n",
    "spark = SparkSession.builder.master(\"local[1]\").appName(\"airline-example\").getOrCreate()\n",
    "\n",
    "flight_file = \"flight-delay-dataset-20182022/Combined_Flights_2022.parquet\"\n",
    "\n",
    "spark.sql(d\"CREATE TEMPORARY VIEW flights USING parquet OPTIONS (path \\\"{flight_file}\\\")\")"
   ]
  },
  {
   "cell_type": "code",
   "execution_count": null,
   "id": "40e23e97",
   "metadata": {},
   "outputs": [],
   "source": [
    "%%timeit\n",
    "query = \"\"\"\n",
    "SELECT airline,\n",
    "       avg(ArrDelayMinutes) AS avg_arr_delay,\n",
    "       max(ArrDelayMinutes) AS max_arr_delay,\n",
    "       min(ArrDelayMinutes) AS min_arr_delay,\n",
    "       avg(DepDelayMinutes) AS avg_dep_delay,\n",
    "       max(DepDelayMinutes) AS max_dep_delay,\n",
    "       min(DepDelayMinutes) AS min_dep_delay\n",
    "FROM flights\n",
    "GROUP BY airline\n",
    "\"\"\"\n",
    "spark.sql(query).write.mode('overwrite').parquet('temp_spark_sql.parquet')"
   ]
  },
  {
   "cell_type": "code",
   "execution_count": null,
   "id": "226af4e0",
   "metadata": {},
   "outputs": [],
   "source": [
    "!ls -GFlash temp_spark_sql.parquet"
   ]
  },
  {
   "cell_type": "markdown",
   "id": "313f13b5",
   "metadata": {},
   "source": [
    "# Read Result"
   ]
  },
  {
   "cell_type": "code",
   "execution_count": null,
   "id": "bfad69da",
   "metadata": {},
   "outputs": [],
   "source": [
    "import pandas as pd\n",
    "\n",
    "agg_pandas = pd.read_parquet('temp_pandas.parquet')\n",
    "agg_polars = pd.read_parquet('temp_polars.parquet')\n",
    "agg_spark = pd.read_parquet('temp_spark.parquet')\n",
    "agg_sparksql = pd.read_parquet('temp_spark_sql.parquet')"
   ]
  },
  {
   "cell_type": "code",
   "execution_count": null,
   "id": "3382ebd8",
   "metadata": {},
   "outputs": [],
   "source": [
    "agg_pandas.shape, agg_polar.shape, agg_sparksql.shape"
   ]
  },
  {
   "cell_type": "code",
   "execution_count": null,
   "id": "99f1ece5",
   "metadata": {},
   "outputs": [],
   "source": [
    "agg_pandas.sort_values(['Airline', 'Year']).head()"
   ]
  },
  {
   "cell_type": "code",
   "execution_count": null,
   "id": "52fe82d0",
   "metadata": {},
   "outputs": [],
   "source": [
    "agg_polars.sort_values(['Airline', 'Year']).head()"
   ]
  },
  {
   "cell_type": "code",
   "execution_count": null,
   "id": "d038841c",
   "metadata": {},
   "outputs": [],
   "source": [
    "agg_sparksql.sort_values(['airline', 'year']).head()"
   ]
  }
 ],
 "metadata": {
  "kernelspec": {
   "display_name": "Python 3 (ipykernel)",
   "language": "python",
   "name": "python3"
  },
  "language_info": {
   "codemirror_mode": {
    "name": "ipython",
    "version": 3
   },
   "file_extension": ".py",
   "mimetype": "text/x-python",
   "name": "python",
   "nbconvert_exporter": "python",
   "pygments_lexer": "ipython3",
   "version": "3.8.5"
  }
 },
 "nbformat": 4,
 "nbformat_minor": 5
}
